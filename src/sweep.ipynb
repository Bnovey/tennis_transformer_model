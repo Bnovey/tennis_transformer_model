{
 "cells": [
  {
   "cell_type": "code",
   "execution_count": 49,
   "id": "19897f49",
   "metadata": {},
   "outputs": [],
   "source": [
    "import itertools\n",
    "import torch\n",
    "from torch.utils.data import DataLoader\n",
    "from model import MatchOutcomeTransformer, FixedPrefixDataset, collate_fn"
   ]
  },
  {
   "cell_type": "code",
   "execution_count": 58,
   "id": "ed07cabc",
   "metadata": {},
   "outputs": [
    {
     "name": "stdout",
     "output_type": "stream",
     "text": [
      "True\n",
      "True\n"
     ]
    }
   ],
   "source": [
    "device = torch.device(\"mps\" if torch.backends.mps.is_available() else \"cpu\")\n",
    "print(torch.backends.mps.is_available())  # Should print True\n",
    "print(torch.backends.mps.is_built())     "
   ]
  },
  {
   "cell_type": "code",
   "execution_count": 59,
   "id": "bfb14a67",
   "metadata": {},
   "outputs": [
    {
     "name": "stderr",
     "output_type": "stream",
     "text": [
      "/var/folders/pc/kr77rnc562z4p366739tyz6w0000gn/T/ipykernel_17172/4060776224.py:1: FutureWarning: You are using `torch.load` with `weights_only=False` (the current default value), which uses the default pickle module implicitly. It is possible to construct malicious pickle data which will execute arbitrary code during unpickling (See https://github.com/pytorch/pytorch/blob/main/SECURITY.md#untrusted-models for more details). In a future release, the default value for `weights_only` will be flipped to `True`. This limits the functions that could be executed during unpickling. Arbitrary objects will no longer be allowed to be loaded via this mode unless they are explicitly allowlisted by the user via `torch.serialization.add_safe_globals`. We recommend you start setting `weights_only=True` for any use case where you don't have full control of the loaded file. Please open an issue on GitHub for any issues related to this experimental feature.\n",
      "  point_match_tensor = torch.load(\"/Users/bowmannovey/Desktop/Transformer_Tennis/tennis_transformer_model/Saved_Dataframes/point_match_tensors.pt\")\n",
      "/var/folders/pc/kr77rnc562z4p366739tyz6w0000gn/T/ipykernel_17172/4060776224.py:2: FutureWarning: You are using `torch.load` with `weights_only=False` (the current default value), which uses the default pickle module implicitly. It is possible to construct malicious pickle data which will execute arbitrary code during unpickling (See https://github.com/pytorch/pytorch/blob/main/SECURITY.md#untrusted-models for more details). In a future release, the default value for `weights_only` will be flipped to `True`. This limits the functions that could be executed during unpickling. Arbitrary objects will no longer be allowed to be loaded via this mode unless they are explicitly allowlisted by the user via `torch.serialization.add_safe_globals`. We recommend you start setting `weights_only=True` for any use case where you don't have full control of the loaded file. Please open an issue on GitHub for any issues related to this experimental feature.\n",
      "  labels = torch.load(\"/Users/bowmannovey/Desktop/Transformer_Tennis/tennis_transformer_model/Saved_Dataframes/labels.pt\")\n"
     ]
    }
   ],
   "source": [
    "point_match_tensor = torch.load(\"/Users/bowmannovey/Desktop/Transformer_Tennis/tennis_transformer_model/Saved_Dataframes/point_match_tensors.pt\")\n",
    "labels = torch.load(\"/Users/bowmannovey/Desktop/Transformer_Tennis/tennis_transformer_model/Saved_Dataframes/labels.pt\")"
   ]
  },
  {
   "cell_type": "code",
   "execution_count": 60,
   "id": "a64eccab",
   "metadata": {},
   "outputs": [],
   "source": [
    "dataset = FixedPrefixDataset(point_match_tensor, labels, min_prefix=5, prefixes_per_match=1, max_prefix=False)\n",
    "dataloader = DataLoader(dataset, batch_size=32, shuffle=True, collate_fn=collate_fn)\n",
    "input_dim = point_match_tensor[0].shape[1]\n"
   ]
  },
  {
   "cell_type": "code",
   "execution_count": 61,
   "id": "88e47902",
   "metadata": {},
   "outputs": [
    {
     "data": {
      "text/plain": [
       "6530"
      ]
     },
     "execution_count": 61,
     "metadata": {},
     "output_type": "execute_result"
    }
   ],
   "source": [
    "len(dataset)"
   ]
  },
  {
   "cell_type": "code",
   "execution_count": 62,
   "id": "bd02e578",
   "metadata": {},
   "outputs": [],
   "source": [
    "param_grid = {\n",
    "    'lr': [1e-4],\n",
    "    'dropout': [0.1, 0.3],\n",
    "    'd_model': [128, 256],\n",
    "    'num_layers': [2, 6],\n",
    "    'nhead' : [2, 4] }\n",
    "param_combinations = list(itertools.product(*param_grid.values()))"
   ]
  },
  {
   "cell_type": "code",
   "execution_count": 63,
   "id": "0dd1406e",
   "metadata": {},
   "outputs": [],
   "source": [
    "results = []"
   ]
  },
  {
   "cell_type": "code",
   "execution_count": 64,
   "id": "1dae880c",
   "metadata": {},
   "outputs": [
    {
     "name": "stdout",
     "output_type": "stream",
     "text": [
      "Testing: d_model=128, nhead=2, num_layers=2, dropout=0.1, lr=0.0001\n"
     ]
    },
    {
     "ename": "KeyboardInterrupt",
     "evalue": "",
     "output_type": "error",
     "traceback": [
      "\u001b[31m---------------------------------------------------------------------------\u001b[39m",
      "\u001b[31mKeyboardInterrupt\u001b[39m                         Traceback (most recent call last)",
      "\u001b[36mCell\u001b[39m\u001b[36m \u001b[39m\u001b[32mIn[64]\u001b[39m\u001b[32m, line 26\u001b[39m\n\u001b[32m     24\u001b[39m loss.backward()\n\u001b[32m     25\u001b[39m optimizer.step()\n\u001b[32m---> \u001b[39m\u001b[32m26\u001b[39m running_loss += \u001b[43mloss\u001b[49m\u001b[43m.\u001b[49m\u001b[43mitem\u001b[49m\u001b[43m(\u001b[49m\u001b[43m)\u001b[49m * batch_x.size(\u001b[32m0\u001b[39m)\n\u001b[32m     27\u001b[39m preds_label = (preds > \u001b[32m0.5\u001b[39m).float()\n\u001b[32m     28\u001b[39m running_correct += (preds_label == batch_y).sum().item()\n",
      "\u001b[31mKeyboardInterrupt\u001b[39m: "
     ]
    }
   ],
   "source": [
    "for lr, dropout, d_model, num_layers, nhead in param_combinations:\n",
    "    print(f\"Testing: d_model={d_model}, nhead={nhead}, num_layers={num_layers}, dropout={dropout}, lr={lr}\")\n",
    "    model = MatchOutcomeTransformer(\n",
    "        input_dim=25,\n",
    "        d_model=d_model,\n",
    "        nhead=nhead,\n",
    "        num_layers=num_layers,\n",
    "        dropout=dropout\n",
    "    ).to(device)\n",
    "    optimizer = torch.optim.Adam(model.parameters(), lr=lr)\n",
    "    criterion = torch.nn.BCELoss()\n",
    "\n",
    "    # One epoch of training (for demonstration; use more for real sweep)\n",
    "    for epoch in range(3):\n",
    "        model.train()\n",
    "        running_loss = 0.0\n",
    "        running_correct = 0\n",
    "        total = 0\n",
    "        for batch_x, batch_y in dataloader:\n",
    "            batch_x, batch_y = batch_x.to(device), batch_y.to(device)\n",
    "            optimizer.zero_grad()\n",
    "            preds = model(batch_x)\n",
    "            loss = criterion(preds, batch_y)\n",
    "            loss.backward()\n",
    "            optimizer.step()\n",
    "            running_loss += loss.item() * batch_x.size(0)\n",
    "            preds_label = (preds > 0.5).float()\n",
    "            running_correct += (preds_label == batch_y).sum().item()\n",
    "            total += batch_y.size(0)\n",
    "        epoch_loss = running_loss / total\n",
    "        epoch_acc = running_correct / total\n",
    "        print(f\"Epoch {epoch+1}, Loss: {epoch_loss:.4f}, Accuracy: {epoch_acc:.4f}\")\n",
    "\n",
    "\n",
    "    # Evaluate (dummy example, replace with real validation)\n",
    "    results.append({\n",
    "        'params': (d_model, nhead, num_layers, dropout, lr),\n",
    "        'loss': epoch_loss,\n",
    "        'accuracy': epoch_acc\n",
    "    })"
   ]
  },
  {
   "cell_type": "code",
   "execution_count": 32,
   "id": "84341981",
   "metadata": {},
   "outputs": [
    {
     "name": "stdout",
     "output_type": "stream",
     "text": [
      "[{'params': (128, 2, 2, 0.1, 0.0001), 'val_loss': 0.7966236472129822}, {'params': (128, 4, 2, 0.1, 0.0001), 'val_loss': 0.7248304486274719}, {'params': (128, 2, 4, 0.1, 0.0001), 'val_loss': 0.7170495986938477}, {'params': (128, 4, 4, 0.1, 0.0001), 'val_loss': 0.7193442583084106}, {'params': (128, 2, 6, 0.1, 0.0001), 'val_loss': 0.6615761518478394}, {'params': (128, 4, 6, 0.1, 0.0001), 'val_loss': 0.7081653475761414}, {'params': (256, 2, 2, 0.1, 0.0001), 'val_loss': 0.6939610242843628}, {'params': (256, 4, 2, 0.1, 0.0001), 'val_loss': 0.7334239482879639}, {'params': (256, 2, 4, 0.1, 0.0001), 'val_loss': 0.7963665723800659}, {'params': (256, 4, 4, 0.1, 0.0001), 'val_loss': 0.6594635248184204}, {'params': (256, 2, 6, 0.1, 0.0001), 'val_loss': 0.6741803884506226}, {'params': (256, 4, 6, 0.1, 0.0001), 'val_loss': 0.7958598136901855}, {'params': (128, 2, 2, 0.3, 0.0001), 'val_loss': 0.6615808606147766}, {'params': (128, 4, 2, 0.3, 0.0001), 'val_loss': 0.7011159658432007}, {'params': (128, 2, 4, 0.3, 0.0001), 'val_loss': 0.6716307997703552}, {'params': (128, 4, 4, 0.3, 0.0001), 'val_loss': 0.6850631237030029}, {'params': (128, 2, 6, 0.3, 0.0001), 'val_loss': 0.6896462440490723}, {'params': (128, 4, 6, 0.3, 0.0001), 'val_loss': 0.7789461612701416}, {'params': (256, 2, 2, 0.3, 0.0001), 'val_loss': 0.6789802312850952}, {'params': (256, 4, 2, 0.3, 0.0001), 'val_loss': 0.6536128520965576}, {'params': (256, 2, 4, 0.3, 0.0001), 'val_loss': 0.7934678792953491}, {'params': (256, 4, 4, 0.3, 0.0001), 'val_loss': 0.695340633392334}, {'params': (256, 2, 6, 0.3, 0.0001), 'val_loss': 0.7798317074775696}, {'params': (256, 4, 6, 0.3, 0.0001), 'val_loss': 0.6810702681541443}]\n"
     ]
    }
   ],
   "source": [
    "print(results)"
   ]
  }
 ],
 "metadata": {
  "kernelspec": {
   "display_name": "Tennis",
   "language": "python",
   "name": "python3"
  },
  "language_info": {
   "codemirror_mode": {
    "name": "ipython",
    "version": 3
   },
   "file_extension": ".py",
   "mimetype": "text/x-python",
   "name": "python",
   "nbconvert_exporter": "python",
   "pygments_lexer": "ipython3",
   "version": "3.11.13"
  }
 },
 "nbformat": 4,
 "nbformat_minor": 5
}
